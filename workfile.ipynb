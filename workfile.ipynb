{
 "cells": [
  {
   "cell_type": "markdown",
   "source": [
    "Setup (general)"
   ],
   "metadata": {
    "collapsed": false,
    "pycharm": {
     "name": "#%% md\n"
    }
   }
  },
  {
   "cell_type": "code",
   "execution_count": 1,
   "outputs": [],
   "source": [
    "%load_ext autoreload\n",
    "%autoreload 2"
   ],
   "metadata": {
    "collapsed": false,
    "pycharm": {
     "name": "#%%\n",
     "is_executing": false
    }
   }
  },
  {
   "cell_type": "code",
   "execution_count": 5,
   "outputs": [
    {
     "name": "stderr",
     "text": [
      "c:\\users\\thijs\\miniconda3\\envs\\spiketoolkit\\lib\\site-packages\\scipy\\stats\\_stats_mstats_common.py:130: RuntimeWarning:\n",
      "\n",
      "invalid value encountered in double_scalars\n",
      "\n",
      "c:\\users\\thijs\\miniconda3\\envs\\spiketoolkit\\lib\\site-packages\\scipy\\stats\\_stats_mstats_common.py:140: RuntimeWarning:\n",
      "\n",
      "invalid value encountered in sqrt\n",
      "\n",
      "c:\\users\\thijs\\miniconda3\\envs\\spiketoolkit\\lib\\site-packages\\scipy\\stats\\_distn_infrastructure.py:903: RuntimeWarning:\n",
      "\n",
      "invalid value encountered in greater\n",
      "\n",
      "c:\\users\\thijs\\miniconda3\\envs\\spiketoolkit\\lib\\site-packages\\scipy\\stats\\_distn_infrastructure.py:903: RuntimeWarning:\n",
      "\n",
      "invalid value encountered in less\n",
      "\n",
      "c:\\users\\thijs\\miniconda3\\envs\\spiketoolkit\\lib\\site-packages\\scipy\\stats\\_distn_infrastructure.py:1912: RuntimeWarning:\n",
      "\n",
      "invalid value encountered in less_equal\n",
      "\n",
      "c:\\users\\thijs\\miniconda3\\envs\\spiketoolkit\\lib\\site-packages\\scipy\\stats\\_stats_mstats_common.py:142: RuntimeWarning:\n",
      "\n",
      "invalid value encountered in double_scalars\n",
      "\n"
     ],
     "output_type": "stream"
    },
    {
     "name": "stdout",
     "text": [
      "trough larger than peak\n"
     ],
     "output_type": "stream"
    }
   ],
   "source": [
    "import spikeextractors as se\n",
    "import spiketoolkit as st\n",
    "f = 'C:/tmp/TT_Hpc5'\n",
    "imsavedir = 'tmpims'\n",
    "\n",
    "rec = se.KlustaRecordingExtractor(folder_path=f)\n",
    "sor = se.KlustaSortingExtractor(file_or_folder_path=f)\n",
    "uids = sor.get_unit_ids()\n",
    "good_units = [uid for uid in uids if sor.get_unit_property(uid, 'quality') == 'good']\n",
    "\n",
    "res = st.postprocessing.compute_waveform_features(\n",
    "    sorting=sor,\n",
    "    recording=rec,\n",
    "    as_dataframe=True,\n",
    "    save_property_or_features=True,\n",
    ")"
   ],
   "metadata": {
    "collapsed": false,
    "pycharm": {
     "name": "#%%\n",
     "is_executing": false
    }
   }
  },
  {
   "cell_type": "code",
   "execution_count": 4,
   "outputs": [
    {
     "data": {
      "text/plain": "   peak_to_valley  halfwidth  peak_trough_ratio  repolarization_slope  \\\n0        0.000719   0.004531           0.114857           6983.293808   \n1        0.000031        NaN           1.001673                   NaN   \n2        0.000781   0.004594           0.100875           7907.692308   \n3        0.000969   0.004687           0.337133          17484.258065   \n\n   recovery_slope  \n0    -3789.045737  \n1             NaN  \n2    -4069.113495  \n3     1672.155091  ",
      "text/html": "<div>\n<style scoped>\n    .dataframe tbody tr th:only-of-type {\n        vertical-align: middle;\n    }\n\n    .dataframe tbody tr th {\n        vertical-align: top;\n    }\n\n    .dataframe thead th {\n        text-align: right;\n    }\n</style>\n<table border=\"1\" class=\"dataframe\">\n  <thead>\n    <tr style=\"text-align: right;\">\n      <th></th>\n      <th>peak_to_valley</th>\n      <th>halfwidth</th>\n      <th>peak_trough_ratio</th>\n      <th>repolarization_slope</th>\n      <th>recovery_slope</th>\n    </tr>\n  </thead>\n  <tbody>\n    <tr>\n      <th>0</th>\n      <td>0.000719</td>\n      <td>0.004531</td>\n      <td>0.114857</td>\n      <td>6983.293808</td>\n      <td>-3789.045737</td>\n    </tr>\n    <tr>\n      <th>1</th>\n      <td>0.000031</td>\n      <td>NaN</td>\n      <td>1.001673</td>\n      <td>NaN</td>\n      <td>NaN</td>\n    </tr>\n    <tr>\n      <th>2</th>\n      <td>0.000781</td>\n      <td>0.004594</td>\n      <td>0.100875</td>\n      <td>7907.692308</td>\n      <td>-4069.113495</td>\n    </tr>\n    <tr>\n      <th>3</th>\n      <td>0.000969</td>\n      <td>0.004687</td>\n      <td>0.337133</td>\n      <td>17484.258065</td>\n      <td>1672.155091</td>\n    </tr>\n  </tbody>\n</table>\n</div>"
     },
     "metadata": {},
     "output_type": "execute_result",
     "execution_count": 4
    }
   ],
   "source": [
    "res[good_units[2]]"
   ],
   "metadata": {
    "collapsed": false,
    "pycharm": {
     "name": "#%%\n",
     "is_executing": false
    }
   }
  }
 ],
 "metadata": {
  "kernelspec": {
   "display_name": "Python 3",
   "language": "python",
   "name": "python3"
  },
  "language_info": {
   "codemirror_mode": {
    "name": "ipython",
    "version": 2
   },
   "file_extension": ".py",
   "mimetype": "text/x-python",
   "name": "python",
   "nbconvert_exporter": "python",
   "pygments_lexer": "ipython2",
   "version": "2.7.6"
  },
  "pycharm": {
   "stem_cell": {
    "cell_type": "raw",
    "source": [],
    "metadata": {
     "collapsed": false
    }
   }
  }
 },
 "nbformat": 4,
 "nbformat_minor": 0
}