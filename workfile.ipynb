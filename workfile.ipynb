{
 "cells": [
  {
   "cell_type": "markdown",
   "source": [
    "Setup (general)"
   ],
   "metadata": {
    "collapsed": false,
    "pycharm": {
     "name": "#%% md\n"
    }
   }
  },
  {
   "cell_type": "code",
   "execution_count": 1,
   "outputs": [],
   "source": [
    "%load_ext autoreload\n",
    "%autoreload 2"
   ],
   "metadata": {
    "collapsed": false,
    "pycharm": {
     "name": "#%%\n"
    }
   }
  },
  {
   "cell_type": "markdown",
   "source": [
    "Load the toolkit, setup input data\n"
   ],
   "metadata": {
    "collapsed": false,
    "pycharm": {
     "name": "#%% md\n",
     "is_executing": false
    }
   }
  },
  {
   "cell_type": "code",
   "execution_count": 2,
   "outputs": [
    {
     "name": "stderr",
     "output_type": "stream",
     "text": [
      "10:35:45 [I] klustakwik KlustaKwik2 version 0.2.6\n"
     ]
    }
   ],
   "source": [
    "import spikeextractors as se\n",
    "import spiketoolkit as st\n",
    "import spikesorters as ss\n",
    "\n",
    "# filepath = 'G:/Data_julien/Klusta_results/Barrel1/Barrel1.dat'\n",
    "filepath = 'C:/tmp/TT_Hpc5/TT_Hpc5.dat'\n",
    "rec = se.BinDatRecordingExtractor(filepath,\n",
    "                                  numchan=4,\n",
    "                                  dtype='int16',\n",
    "                                  sampling_frequency=32000)\n",
    "\n",
    "rec = rec.load_probe_file('C:/tmp/TT_Hpc5/TT_Hpc5.prb')\n",
    "# rec = rec.load_probe_file('G:/Data_julien/Klusta_results/Barrel1/Barrel1.prb')"
   ],
   "metadata": {
    "collapsed": false,
    "pycharm": {
     "name": "#%%\n"
    }
   }
  },
  {
   "cell_type": "code",
   "execution_count": 3,
   "outputs": [
    {
     "name": "stdout",
     "output_type": "stream",
     "text": [
      "['hdsort', 'herdingspikes', 'ironclust', 'kilosort', 'kilosort2', 'klusta', 'mountainsort4', 'spykingcircus', 'tridesclous', 'waveclus']\n",
      "[<class 'spikesorters.klusta.klusta.KlustaSorter'>]\n",
      "{'adjacency_radius': None, 'threshold_strong_std_factor': 5, 'threshold_weak_std_factor': 2, 'detect_sign': -1, 'extract_s_before': 16, 'extract_s_after': 32, 'n_features_per_channel': 3, 'pca_n_waveforms_max': 10000, 'num_starting_clusters': 50}\n"
     ]
    }
   ],
   "source": [
    "print(ss.available_sorters())\n",
    "print(ss.installed_sorter_list)\n",
    "print(ss.get_default_params('klusta'))\n",
    "\n",
    "klusta_params = ss.get_default_params('klusta')\n",
    "# sorting_klusta = ss.run_klusta(recording=rec,\n",
    "#                                verbose=True,\n",
    "#                                **klusta_params)"
   ],
   "metadata": {
    "collapsed": false,
    "pycharm": {
     "name": "#%%\n"
    }
   }
  },
  {
   "cell_type": "code",
   "execution_count": 4,
   "outputs": [],
   "source": [
    "# st.postprocessing.export_to_phy(\n",
    "#     recording=rec,\n",
    "#     sorting=sorting_klusta,\n",
    "#     output_folder='G:/Data_julien/Klusta_results/Barrel1/phy'\n",
    "# )"
   ],
   "metadata": {
    "collapsed": false,
    "pycharm": {
     "name": "#%%\n"
    }
   }
  },
  {
   "cell_type": "code",
   "execution_count": 5,
   "outputs": [
    {
     "name": "stdout",
     "output_type": "stream",
     "text": [
      "[0, 5, 7, 8, 9, 10, 11, 12, 15, 17, 18, 19, 20, 21, 22, 23, 24, 25, 26, 29, 30, 31, 33, 34, 37, 38, 40, 41, 43, 44, 45, 47, 50, 51, 52, 55, 68, 118, 119, 120, 121]\n",
      "[22, 55, 118, 119, 120, 121]\n"
     ]
    }
   ],
   "source": [
    "# sor = se.PhySortingExtractor(\n",
    "#     'G:/Data_julien/Klusta_results/Barrel1/phy'\n",
    "# )\n",
    "\n",
    "sor = se.KlustaSortingExtractor(file_or_folder_path='C:/tmp/TT_Hpc5')\n",
    "uids = sor.get_unit_ids()\n",
    "good_units = [uid for uid in uids if sor.get_unit_property(uid, 'quality') == 'good']\n",
    "print(uids)\n",
    "\n",
    "print(good_units)"
   ],
   "metadata": {
    "collapsed": false,
    "pycharm": {
     "name": "#%%\n"
    }
   }
  },
  {
   "cell_type": "code",
   "execution_count": 170,
   "outputs": [
    {
     "name": "stderr",
     "output_type": "stream",
     "text": [
      "c:\\users\\thijs\\miniconda3\\envs\\spiketoolkit\\lib\\site-packages\\scipy\\stats\\_stats_mstats_common.py:130: RuntimeWarning:\n",
      "\n",
      "invalid value encountered in double_scalars\n",
      "\n",
      "c:\\users\\thijs\\miniconda3\\envs\\spiketoolkit\\lib\\site-packages\\scipy\\stats\\_stats_mstats_common.py:140: RuntimeWarning:\n",
      "\n",
      "invalid value encountered in sqrt\n",
      "\n",
      "c:\\users\\thijs\\miniconda3\\envs\\spiketoolkit\\lib\\site-packages\\scipy\\stats\\_distn_infrastructure.py:903: RuntimeWarning:\n",
      "\n",
      "invalid value encountered in greater\n",
      "\n",
      "c:\\users\\thijs\\miniconda3\\envs\\spiketoolkit\\lib\\site-packages\\scipy\\stats\\_distn_infrastructure.py:903: RuntimeWarning:\n",
      "\n",
      "invalid value encountered in less\n",
      "\n",
      "c:\\users\\thijs\\miniconda3\\envs\\spiketoolkit\\lib\\site-packages\\scipy\\stats\\_distn_infrastructure.py:1912: RuntimeWarning:\n",
      "\n",
      "invalid value encountered in less_equal\n",
      "\n",
      "c:\\users\\thijs\\miniconda3\\envs\\spiketoolkit\\lib\\site-packages\\scipy\\stats\\_stats_mstats_common.py:142: RuntimeWarning:\n",
      "\n",
      "invalid value encountered in double_scalars\n",
      "\n"
     ]
    }
   ],
   "source": [
    "# validation = st.validation.compute_metrics(\n",
    "#     recording=rec,\n",
    "#     sorting=sor,\n",
    "#     verbose=True,\n",
    "#     return_dict=True,\n",
    "#     metric_names=['num_spikes', 'firing_rate']\n",
    "# )\n",
    "# \n",
    "res = st.postprocessing.compute_waveform_features(\n",
    "    sorting=sor,\n",
    "    recording=rec,\n",
    "    as_dataframe=True,\n",
    "    save_property_or_features=True,\n",
    "    upsampling_factor=4,\n",
    ")\n",
    "\n"
   ],
   "metadata": {
    "collapsed": false,
    "pycharm": {
     "name": "#%%\n"
    }
   }
  },
  {
   "cell_type": "code",
   "execution_count": 225,
   "outputs": [],
   "source": [
    "from spiketoolkit.postprocessing.plot_features import plot_metrics\n",
    "\n",
    "for uid in good_units:\n",
    "    plot_metrics(\n",
    "        sor,\n",
    "        rec,\n",
    "        uid,\n",
    "        invert_template=True,\n",
    "        upsampling_factor=4,\n",
    "\n",
    "    )\n",
    "# plot_metrics(\n",
    "#     sor,\n",
    "#     rec,\n",
    "#     good_units[0],\n",
    "#     invert_template=True,\n",
    "#     upsampling_factor=4,\n",
    "#\n",
    "# )"
   ],
   "metadata": {
    "collapsed": false,
    "pycharm": {
     "name": "#%%\n"
    }
   }
  },
  {
   "cell_type": "code",
   "execution_count": 141,
   "outputs": [
    {
     "name": "stdout",
     "output_type": "stream",
     "text": [
      "508\n",
      "508\n",
      "507\n",
      "510\n",
      "(768,) (4, 768)\n",
      "0.0 5.9921875\n",
      "[381 381 380 383] [484 505 482 472]\n"
     ]
    }
   ],
   "source": [
    "from scipy.signal import resample\n",
    "import numpy as np\n",
    "import spiketoolkit.postprocessing.waveform_features_library as wfl\n",
    "unit_id = good_units[0]\n",
    "unit_props = sor.get_unit_property_names(unit_id)\n",
    "max_chan = st.postprocessing.get_unit_max_channels(\n",
    "    sorting=sor,\n",
    "    recording=rec,\n",
    "    unit_ids=unit_id\n",
    ")[0]\n",
    "template = sor.get_unit_property(unit_id, 'template')\n",
    "n_up = template.shape[1] * us\n",
    "fs = sor.get_sampling_frequency() * us\n",
    "template = resample(template, n_up, axis=1)\n",
    "\n",
    "time = np.arange(0, template.shape[1]) * (1/fs) * 1000  # in ms\n",
    "time = resample(time, n_up)\n",
    "\n",
    "p0, p1 = wfl._get_trough_and_peak_idx(waveform=-template, fs=fs, max_time_after_trough=1)\n",
    "print(time.shape, template.shape)\n",
    "print(time[0], time[-1])"
   ],
   "metadata": {
    "collapsed": false,
    "pycharm": {
     "name": "#%%\n"
    }
   }
  },
  {
   "cell_type": "code",
   "execution_count": 210,
   "outputs": [
    {
     "data": {
      "text/plain": "0    24.039567\n1     8.741076\n2    28.328622\n3    14.709908\nName: recovery_slope, dtype: float64"
     },
     "execution_count": 210,
     "metadata": {},
     "output_type": "execute_result"
    }
   ],
   "source": [
    "\n",
    "res[good_units[0]].recovery_slope/1000"
   ],
   "metadata": {
    "collapsed": false,
    "pycharm": {
     "name": "#%%\n"
    }
   }
  }
 ],
 "metadata": {
  "kernelspec": {
   "display_name": "Python 3",
   "language": "python",
   "name": "python3"
  },
  "language_info": {
   "codemirror_mode": {
    "name": "ipython",
    "version": 2
   },
   "file_extension": ".py",
   "mimetype": "text/x-python",
   "name": "python",
   "nbconvert_exporter": "python",
   "pygments_lexer": "ipython2",
   "version": "2.7.6"
  }
 },
 "nbformat": 4,
 "nbformat_minor": 0
}